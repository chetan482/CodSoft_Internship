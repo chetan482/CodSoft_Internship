{
  "nbformat": 4,
  "nbformat_minor": 0,
  "metadata": {
    "colab": {
      "provenance": [],
      "authorship_tag": "ABX9TyN1yIhHBu/5eH6Ez8JJVuDJ",
      "include_colab_link": true
    },
    "kernelspec": {
      "name": "python3",
      "display_name": "Python 3"
    },
    "language_info": {
      "name": "python"
    }
  },
  "cells": [
    {
      "cell_type": "markdown",
      "metadata": {
        "id": "view-in-github",
        "colab_type": "text"
      },
      "source": [
        "<a href=\"https://colab.research.google.com/github/chetan482/CodSoft_Internship/blob/main/Task2.ipynb\" target=\"_parent\"><img src=\"https://colab.research.google.com/assets/colab-badge.svg\" alt=\"Open In Colab\"/></a>"
      ]
    },
    {
      "cell_type": "code",
      "source": [
        "import random\n",
        "import string\n",
        "\n",
        "def generate_password(length):\n",
        "  \"\"\"Generates a random password of the specified length.\"\"\"\n",
        "\n",
        "  characters = string.ascii_letters + string.digits + string.punctuation\n",
        "  password = ''.join(random.choice(characters) for i in range(length))\n",
        "  return password\n",
        "\n",
        "\n",
        "if __name__ == \"__main__\":\n",
        "  try:\n",
        "    length = int(input(\"Enter the desired length of the password: \"))\n",
        "    if length <= 0:\n",
        "      print(\"Password length must be a positive integer.\")\n",
        "    else:\n",
        "      password = generate_password(length)\n",
        "      print(\"Generated password:\", password)\n",
        "  except ValueError:\n",
        "    print(\"Invalid input. Please enter a valid integer for password length.\")"
      ],
      "metadata": {
        "colab": {
          "base_uri": "https://localhost:8080/"
        },
        "id": "6py3QsVta4DC",
        "outputId": "34469f54-4c72-4053-ab70-5ad7cfd44a19"
      },
      "execution_count": null,
      "outputs": [
        {
          "output_type": "stream",
          "name": "stdout",
          "text": [
            "Enter the desired length of the password: 10\n",
            "Generated password: {uY6$FPS6v\n"
          ]
        }
      ]
    }
  ]
}
