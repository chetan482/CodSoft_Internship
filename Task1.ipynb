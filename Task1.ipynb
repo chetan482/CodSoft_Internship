{
  "nbformat": 4,
  "nbformat_minor": 0,
  "metadata": {
    "colab": {
      "provenance": [],
      "authorship_tag": "ABX9TyNGyNFgAzn7U7q/pEWJTqjD",
      "include_colab_link": true
    },
    "kernelspec": {
      "name": "python3",
      "display_name": "Python 3"
    },
    "language_info": {
      "name": "python"
    }
  },
  "cells": [
    {
      "cell_type": "markdown",
      "metadata": {
        "id": "view-in-github",
        "colab_type": "text"
      },
      "source": [
        "<a href=\"https://colab.research.google.com/github/chetan482/chatbot-using-langchain/blob/main/Task1.ipynb\" target=\"_parent\"><img src=\"https://colab.research.google.com/assets/colab-badge.svg\" alt=\"Open In Colab\"/></a>"
      ]
    },
    {
      "cell_type": "code",
      "source": [
        "def show_menu():\n",
        "  \"\"\"Displays the menu options to the user.\"\"\"\n",
        "  print(\"\\nTo-Do List Menu:\")\n",
        "  print(\"1. Add Task\")\n",
        "  print(\"2. Mark Task as Complete\")\n",
        "  print(\"3. View Tasks\")\n",
        "  print(\"4. Exit\")\n",
        "\n",
        "\n",
        "def add_task(tasks):\n",
        "  \"\"\"Adds a new task to the to-do list.\"\"\"\n",
        "  task = input(\"Enter the task: \")\n",
        "  tasks.append({\"task\": task, \"completed\": False})\n",
        "  print(\"Task added successfully!\")\n",
        "\n",
        "\n",
        "def mark_complete(tasks):\n",
        "  \"\"\"Marks a task as complete in the to-do list.\"\"\"\n",
        "  view_tasks(tasks)\n",
        "  if not tasks:\n",
        "    return\n",
        "  try:\n",
        "    task_index = int(input(\"Enter the number of the task to mark as complete: \")) - 1\n",
        "    if 0 <= task_index < len(tasks):\n",
        "      tasks[task_index][\"completed\"] = True\n",
        "      print(\"Task marked as complete!\")\n",
        "    else:\n",
        "      print(\"Invalid task number.\")\n",
        "  except ValueError:\n",
        "    print(\"Invalid input. Please enter a number.\")\n",
        "\n",
        "\n",
        "def view_tasks(tasks):\n",
        "  \"\"\"Displays the current to-do list.\"\"\"\n",
        "  if not tasks:\n",
        "    print(\"Your to-do list is empty.\")\n",
        "    return\n",
        "\n",
        "  print(\"\\nYour To-Do List:\")\n",
        "  for i, task in enumerate(tasks):\n",
        "    status = \"[x]\" if task[\"completed\"] else \"[ ]\"\n",
        "    print(f\"{i + 1}. {status} {task['task']}\")\n",
        "\n",
        "\n",
        "def main():\n",
        "  \"\"\"The main function that runs the to-do list application.\"\"\"\n",
        "  tasks = []\n",
        "  while True:\n",
        "    show_menu()\n",
        "    choice = input(\"Enter your choice: \")\n",
        "\n",
        "    if choice == \"1\":\n",
        "      add_task(tasks)\n",
        "    elif choice == \"2\":\n",
        "      mark_complete(tasks)\n",
        "    elif choice == \"3\":\n",
        "      view_tasks(tasks)\n",
        "    elif choice == \"4\":\n",
        "      print(\"Exiting...\")\n",
        "      break\n",
        "    else:\n",
        "      print(\"Invalid choice. Please try again.\")\n",
        "\n",
        "\n",
        "if __name__ == \"__main__\":\n",
        "  main()"
      ],
      "metadata": {
        "colab": {
          "base_uri": "https://localhost:8080/"
        },
        "id": "WG2NUwc2XM5g",
        "outputId": "75cf3fdd-d4db-4e1c-f1f6-a63d7a135d27"
      },
      "execution_count": null,
      "outputs": [
        {
          "output_type": "stream",
          "name": "stdout",
          "text": [
            "\n",
            "To-Do List Menu:\n",
            "1. Add Task\n",
            "2. Mark Task as Complete\n",
            "3. View Tasks\n",
            "4. Exit\n",
            "Enter your choice: 1\n",
            "Enter the task: Swimming\n",
            "Task added successfully!\n",
            "\n",
            "To-Do List Menu:\n",
            "1. Add Task\n",
            "2. Mark Task as Complete\n",
            "3. View Tasks\n",
            "4. Exit\n"
          ]
        }
      ]
    }
  ]
}